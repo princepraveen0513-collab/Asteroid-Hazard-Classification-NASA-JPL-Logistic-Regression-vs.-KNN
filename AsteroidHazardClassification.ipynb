{
 "cells": [
  {
   "cell_type": "markdown",
   "id": "ff431d15",
   "metadata": {},
   "source": [
    "# Logistic Regression and KNN Regressor Modeling\n",
    "\n",
    "## Prince Praveen\n",
    "\n",
    "\n",
    "\n",
    "# Dataset : NASA JPL Asteroid Dataset - From Kaggle\n",
    "\n",
    "Link to the dataset: https://www.kaggle.com/datasets/sakhawat18/asteroid-dataset?resource=download\n",
    "\n",
    "### Context: \n",
    "The NASA JPL Asteroid Dataset, sourced from Kaggle, contains valuable data on various asteroids, including physical characteristics, orbital information, and whether they are classified as hazardous. Given the increasing interest in space exploration and planetary defense, analyzing the properties of asteroids has become crucial for identifying potential threats to Earth.\n"
   ]
  },
  {
   "cell_type": "markdown",
   "id": "592a16d0",
   "metadata": {},
   "source": [
    "# Data Loading and Cleaning"
   ]
  },
  {
   "cell_type": "code",
   "execution_count": 1,
   "id": "88b577ce",
   "metadata": {},
   "outputs": [],
   "source": [
    "#importing the required libraries\n",
    "import numpy as np\n",
    "import matplotlib.pyplot as plt\n",
    "import seaborn as sns\n",
    "from sklearn.neighbors import KNeighborsRegressor\n",
    "from sklearn.preprocessing import StandardScaler\n",
    "from sklearn.metrics import mean_squared_error, mean_absolute_error\n",
    "import pandas as pd\n",
    "from sklearn.model_selection import train_test_split\n",
    "from sklearn.model_selection import GridSearchCV"
   ]
  },
  {
   "cell_type": "code",
   "execution_count": 19,
   "id": "3f2983c5",
   "metadata": {},
   "outputs": [
    {
     "name": "stderr",
     "output_type": "stream",
     "text": [
      "C:\\Users\\princ\\AppData\\Local\\Temp\\ipykernel_7672\\3507848095.py:2: DtypeWarning: Columns (3,4,5) have mixed types. Specify dtype option on import or set low_memory=False.\n",
      "  df = pd.read_csv('./dataset.csv')\n"
     ]
    },
    {
     "name": "stdout",
     "output_type": "stream",
     "text": [
      "Dataset size: (958524, 45)\n"
     ]
    }
   ],
   "source": [
    "#import the data into a dataframe\n",
    "df = pd.read_csv('./dataset.csv')\n",
    "\n",
    "# Display the total dataset size (rows, columns)\n",
    "print(\"Dataset size:\", df.shape)"
   ]
  },
  {
   "cell_type": "code",
   "execution_count": 5,
   "id": "ddc7e0f9",
   "metadata": {},
   "outputs": [
    {
     "data": {
      "text/plain": [
       "id                     0\n",
       "spkid                  0\n",
       "full_name              0\n",
       "pdes                   0\n",
       "name              936460\n",
       "prefix            958506\n",
       "neo                    4\n",
       "pha                19921\n",
       "H                   6263\n",
       "diameter          822315\n",
       "albedo            823421\n",
       "diameter_sigma    822443\n",
       "orbit_id               0\n",
       "epoch                  0\n",
       "epoch_mjd              0\n",
       "epoch_cal              0\n",
       "equinox                0\n",
       "e                      0\n",
       "a                      0\n",
       "q                      0\n",
       "i                      0\n",
       "om                     0\n",
       "w                      0\n",
       "ma                     1\n",
       "ad                     4\n",
       "n                      0\n",
       "tp                     0\n",
       "tp_cal                 0\n",
       "per                    4\n",
       "per_y                  1\n",
       "moid               19921\n",
       "moid_ld              127\n",
       "sigma_e            19922\n",
       "sigma_a            19922\n",
       "sigma_q            19922\n",
       "sigma_i            19922\n",
       "sigma_om           19922\n",
       "sigma_w            19922\n",
       "sigma_ma           19922\n",
       "sigma_ad           19926\n",
       "sigma_n            19922\n",
       "sigma_tp           19922\n",
       "sigma_per          19926\n",
       "class                  0\n",
       "rms                    2\n",
       "dtype: int64"
      ]
     },
     "execution_count": 5,
     "metadata": {},
     "output_type": "execute_result"
    }
   ],
   "source": [
    "#Checking for null values in our dataset\n",
    "df.isnull().sum()"
   ]
  },
  {
   "cell_type": "markdown",
   "id": "82330ded",
   "metadata": {},
   "source": [
    "## Handling Null/Missing Values\n",
    "Here are the steps that I will take for data cleaning and preparation.\n",
    "1. Drop rows that have more than 33% missing values.\n",
    "2. Drop columns that have more than 40% missing values.\n",
    "3. For numeric missing data, we can impute new values by taking the mean of that column.\n",
    "4. For categorical missing data, we can impute values by  taking the mode (most occuring value) of that column."
   ]
  },
  {
   "cell_type": "code",
   "execution_count": 7,
   "id": "73dfafb4",
   "metadata": {},
   "outputs": [
    {
     "name": "stdout",
     "output_type": "stream",
     "text": [
      "Number of rows with more than 33% missing values: 19922\n"
     ]
    }
   ],
   "source": [
    "# Number of columns\n",
    "total_columns = df.shape[1]\n",
    "\n",
    "# Threshold for 33% missing values\n",
    "threshold = 0.33 * total_columns\n",
    "\n",
    "# Count rows with more than 33% missing values\n",
    "rows_with_missing_values = df[df.isnull().sum(axis=1) > threshold]\n",
    "\n",
    "# Display the count\n",
    "print(\"Number of rows with more than 33% missing values:\", rows_with_missing_values.shape[0])\n"
   ]
  },
  {
   "cell_type": "code",
   "execution_count": 11,
   "id": "cc08e2d0",
   "metadata": {},
   "outputs": [
    {
     "name": "stdout",
     "output_type": "stream",
     "text": [
      "Dataset size after dropping rows with more than 33% missing values: (938602, 45)\n"
     ]
    }
   ],
   "source": [
    "# Drop rows with more than 33% missing values\n",
    "df_cleaned = df[df.isnull().sum(axis=1) <= threshold]\n",
    "\n",
    "# Check the new dataset size after dropping\n",
    "print(\"Dataset size after dropping rows with more than 33% missing values:\", df_cleaned.shape)"
   ]
  },
  {
   "cell_type": "code",
   "execution_count": 12,
   "id": "0669b54d",
   "metadata": {},
   "outputs": [
    {
     "name": "stdout",
     "output_type": "stream",
     "text": [
      "Columns with more than 40% missing values:\n",
      "Index(['name', 'prefix', 'diameter', 'albedo', 'diameter_sigma'], dtype='object')\n"
     ]
    }
   ],
   "source": [
    "# Threshold for 40% missing values\n",
    "threshold_40 = 0.40 * len(df)\n",
    "\n",
    "# Identify columns with more than 40% missing values\n",
    "columns_with_missing_values = df.columns[df.isnull().sum() > threshold_40]\n",
    "\n",
    "# Print the columns\n",
    "print(\"Columns with more than 40% missing values:\")\n",
    "print(columns_with_missing_values)"
   ]
  },
  {
   "cell_type": "code",
   "execution_count": 13,
   "id": "4f42fedf",
   "metadata": {},
   "outputs": [
    {
     "name": "stdout",
     "output_type": "stream",
     "text": [
      "Remaining columns after dropping:\n",
      "Index(['id', 'spkid', 'full_name', 'pdes', 'name', 'prefix', 'neo', 'pha', 'H',\n",
      "       'orbit_id', 'epoch', 'epoch_mjd', 'epoch_cal', 'equinox', 'e', 'a', 'q',\n",
      "       'i', 'om', 'w', 'ma', 'ad', 'n', 'tp', 'tp_cal', 'per', 'per_y', 'moid',\n",
      "       'moid_ld', 'sigma_e', 'sigma_a', 'sigma_q', 'sigma_i', 'sigma_om',\n",
      "       'sigma_w', 'sigma_ma', 'sigma_ad', 'sigma_n', 'sigma_tp', 'sigma_per',\n",
      "       'class', 'rms'],\n",
      "      dtype='object')\n"
     ]
    }
   ],
   "source": [
    "# Drop all columns with more than 40% missing values except 'name' and 'prefix'\n",
    "columns_to_drop = columns_with_missing_values.drop(['name', 'prefix'])\n",
    "\n",
    "# Drop the selected columns from the dataframe\n",
    "df_cleaned = df.drop(columns=columns_to_drop)\n",
    "\n",
    "# Check the new dataframe columns\n",
    "print(\"Remaining columns after dropping:\")\n",
    "print(df_cleaned.columns)"
   ]
  },
  {
   "cell_type": "code",
   "execution_count": 15,
   "id": "24539f98",
   "metadata": {},
   "outputs": [
    {
     "data": {
      "text/plain": [
       "id                0\n",
       "spkid             0\n",
       "full_name         0\n",
       "pdes              0\n",
       "name         936460\n",
       "prefix       958506\n",
       "neo               4\n",
       "pha           19921\n",
       "H              6263\n",
       "orbit_id          0\n",
       "epoch             0\n",
       "epoch_mjd         0\n",
       "epoch_cal         0\n",
       "equinox           0\n",
       "e                 0\n",
       "a                 0\n",
       "q                 0\n",
       "i                 0\n",
       "om                0\n",
       "w                 0\n",
       "ma                1\n",
       "ad                4\n",
       "n                 0\n",
       "tp                0\n",
       "tp_cal            0\n",
       "per               4\n",
       "per_y             1\n",
       "moid          19921\n",
       "moid_ld         127\n",
       "sigma_e       19922\n",
       "sigma_a       19922\n",
       "sigma_q       19922\n",
       "sigma_i       19922\n",
       "sigma_om      19922\n",
       "sigma_w       19922\n",
       "sigma_ma      19922\n",
       "sigma_ad      19926\n",
       "sigma_n       19922\n",
       "sigma_tp      19922\n",
       "sigma_per     19926\n",
       "class             0\n",
       "rms               2\n",
       "dtype: int64"
      ]
     },
     "execution_count": 15,
     "metadata": {},
     "output_type": "execute_result"
    }
   ],
   "source": [
    "#Checking for null values in our dataset\n",
    "df_cleaned.isnull().sum()"
   ]
  },
  {
   "cell_type": "markdown",
   "id": "5e2ea9a3",
   "metadata": {},
   "source": [
    "Now, let us fill numeric missing values with the mean of their respective columns"
   ]
  },
  {
   "cell_type": "code",
   "execution_count": 16,
   "id": "71fb7cb1",
   "metadata": {},
   "outputs": [
    {
     "name": "stdout",
     "output_type": "stream",
     "text": [
      "sigma_e      0\n",
      "sigma_a      0\n",
      "sigma_q      0\n",
      "sigma_i      0\n",
      "sigma_om     0\n",
      "sigma_w      0\n",
      "sigma_ma     0\n",
      "sigma_ad     0\n",
      "sigma_n      0\n",
      "sigma_tp     0\n",
      "sigma_per    0\n",
      "dtype: int64\n"
     ]
    }
   ],
   "source": [
    "# List of columns starting with 'sigma_' that have missing values\n",
    "sigma_columns = [col for col in df_cleaned.columns if col.startswith('sigma_')]\n",
    "\n",
    "# Fill missing values in each sigma column with the mean of the respective column\n",
    "df_cleaned[sigma_columns] = df_cleaned[sigma_columns].apply(lambda col: col.fillna(col.mean()))\n",
    "\n",
    "# Check if the missing values are filled\n",
    "print(df_cleaned[sigma_columns].isnull().sum())"
   ]
  },
  {
   "cell_type": "code",
   "execution_count": 17,
   "id": "bbbaed2a",
   "metadata": {},
   "outputs": [
    {
     "data": {
      "text/plain": [
       "id                0\n",
       "spkid             0\n",
       "full_name         0\n",
       "pdes              0\n",
       "name         936460\n",
       "prefix       958506\n",
       "neo               4\n",
       "pha           19921\n",
       "H              6263\n",
       "orbit_id          0\n",
       "epoch             0\n",
       "epoch_mjd         0\n",
       "epoch_cal         0\n",
       "equinox           0\n",
       "e                 0\n",
       "a                 0\n",
       "q                 0\n",
       "i                 0\n",
       "om                0\n",
       "w                 0\n",
       "ma                1\n",
       "ad                4\n",
       "n                 0\n",
       "tp                0\n",
       "tp_cal            0\n",
       "per               4\n",
       "per_y             1\n",
       "moid          19921\n",
       "moid_ld         127\n",
       "sigma_e           0\n",
       "sigma_a           0\n",
       "sigma_q           0\n",
       "sigma_i           0\n",
       "sigma_om          0\n",
       "sigma_w           0\n",
       "sigma_ma          0\n",
       "sigma_ad          0\n",
       "sigma_n           0\n",
       "sigma_tp          0\n",
       "sigma_per         0\n",
       "class             0\n",
       "rms               2\n",
       "dtype: int64"
      ]
     },
     "execution_count": 17,
     "metadata": {},
     "output_type": "execute_result"
    }
   ],
   "source": [
    "df_cleaned.isnull().sum()"
   ]
  },
  {
   "cell_type": "code",
   "execution_count": 20,
   "id": "ce5ed7d4",
   "metadata": {},
   "outputs": [
    {
     "data": {
      "text/html": [
       "<div>\n",
       "<style scoped>\n",
       "    .dataframe tbody tr th:only-of-type {\n",
       "        vertical-align: middle;\n",
       "    }\n",
       "\n",
       "    .dataframe tbody tr th {\n",
       "        vertical-align: top;\n",
       "    }\n",
       "\n",
       "    .dataframe thead th {\n",
       "        text-align: right;\n",
       "    }\n",
       "</style>\n",
       "<table border=\"1\" class=\"dataframe\">\n",
       "  <thead>\n",
       "    <tr style=\"text-align: right;\">\n",
       "      <th></th>\n",
       "      <th>id</th>\n",
       "      <th>spkid</th>\n",
       "      <th>full_name</th>\n",
       "      <th>pdes</th>\n",
       "      <th>name</th>\n",
       "      <th>prefix</th>\n",
       "      <th>neo</th>\n",
       "      <th>pha</th>\n",
       "      <th>H</th>\n",
       "      <th>orbit_id</th>\n",
       "      <th>...</th>\n",
       "      <th>sigma_i</th>\n",
       "      <th>sigma_om</th>\n",
       "      <th>sigma_w</th>\n",
       "      <th>sigma_ma</th>\n",
       "      <th>sigma_ad</th>\n",
       "      <th>sigma_n</th>\n",
       "      <th>sigma_tp</th>\n",
       "      <th>sigma_per</th>\n",
       "      <th>class</th>\n",
       "      <th>rms</th>\n",
       "    </tr>\n",
       "  </thead>\n",
       "  <tbody>\n",
       "    <tr>\n",
       "      <th>0</th>\n",
       "      <td>a0000001</td>\n",
       "      <td>2000001</td>\n",
       "      <td>1 Ceres</td>\n",
       "      <td>1</td>\n",
       "      <td>Ceres</td>\n",
       "      <td>NaN</td>\n",
       "      <td>N</td>\n",
       "      <td>N</td>\n",
       "      <td>3.40</td>\n",
       "      <td>JPL 47</td>\n",
       "      <td>...</td>\n",
       "      <td>4.608900e-09</td>\n",
       "      <td>6.168800e-08</td>\n",
       "      <td>6.624800e-08</td>\n",
       "      <td>7.820700e-09</td>\n",
       "      <td>1.111300e-11</td>\n",
       "      <td>1.196500e-12</td>\n",
       "      <td>3.782900e-08</td>\n",
       "      <td>9.415900e-09</td>\n",
       "      <td>MBA</td>\n",
       "      <td>0.43301</td>\n",
       "    </tr>\n",
       "    <tr>\n",
       "      <th>1</th>\n",
       "      <td>a0000002</td>\n",
       "      <td>2000002</td>\n",
       "      <td>2 Pallas</td>\n",
       "      <td>2</td>\n",
       "      <td>Pallas</td>\n",
       "      <td>NaN</td>\n",
       "      <td>N</td>\n",
       "      <td>N</td>\n",
       "      <td>4.20</td>\n",
       "      <td>JPL 37</td>\n",
       "      <td>...</td>\n",
       "      <td>3.469400e-06</td>\n",
       "      <td>6.272400e-06</td>\n",
       "      <td>9.128200e-06</td>\n",
       "      <td>8.859100e-06</td>\n",
       "      <td>4.961300e-09</td>\n",
       "      <td>4.653600e-10</td>\n",
       "      <td>4.078700e-05</td>\n",
       "      <td>3.680700e-06</td>\n",
       "      <td>MBA</td>\n",
       "      <td>0.35936</td>\n",
       "    </tr>\n",
       "    <tr>\n",
       "      <th>2</th>\n",
       "      <td>a0000003</td>\n",
       "      <td>2000003</td>\n",
       "      <td>3 Juno</td>\n",
       "      <td>3</td>\n",
       "      <td>Juno</td>\n",
       "      <td>NaN</td>\n",
       "      <td>N</td>\n",
       "      <td>N</td>\n",
       "      <td>5.33</td>\n",
       "      <td>JPL 112</td>\n",
       "      <td>...</td>\n",
       "      <td>3.223100e-06</td>\n",
       "      <td>1.664600e-05</td>\n",
       "      <td>1.772100e-05</td>\n",
       "      <td>8.110400e-06</td>\n",
       "      <td>4.363900e-09</td>\n",
       "      <td>4.413400e-10</td>\n",
       "      <td>3.528800e-05</td>\n",
       "      <td>3.107200e-06</td>\n",
       "      <td>MBA</td>\n",
       "      <td>0.33848</td>\n",
       "    </tr>\n",
       "    <tr>\n",
       "      <th>3</th>\n",
       "      <td>a0000004</td>\n",
       "      <td>2000004</td>\n",
       "      <td>4 Vesta</td>\n",
       "      <td>4</td>\n",
       "      <td>Vesta</td>\n",
       "      <td>NaN</td>\n",
       "      <td>N</td>\n",
       "      <td>N</td>\n",
       "      <td>3.00</td>\n",
       "      <td>JPL 35</td>\n",
       "      <td>...</td>\n",
       "      <td>2.170600e-07</td>\n",
       "      <td>3.880800e-07</td>\n",
       "      <td>1.789300e-07</td>\n",
       "      <td>1.206800e-06</td>\n",
       "      <td>1.648600e-09</td>\n",
       "      <td>2.612500e-10</td>\n",
       "      <td>4.103700e-06</td>\n",
       "      <td>1.274900e-06</td>\n",
       "      <td>MBA</td>\n",
       "      <td>0.39980</td>\n",
       "    </tr>\n",
       "    <tr>\n",
       "      <th>4</th>\n",
       "      <td>a0000005</td>\n",
       "      <td>2000005</td>\n",
       "      <td>5 Astraea</td>\n",
       "      <td>5</td>\n",
       "      <td>Astraea</td>\n",
       "      <td>NaN</td>\n",
       "      <td>N</td>\n",
       "      <td>N</td>\n",
       "      <td>6.90</td>\n",
       "      <td>JPL 114</td>\n",
       "      <td>...</td>\n",
       "      <td>2.740800e-06</td>\n",
       "      <td>2.894900e-05</td>\n",
       "      <td>2.984200e-05</td>\n",
       "      <td>8.303800e-06</td>\n",
       "      <td>4.729000e-09</td>\n",
       "      <td>5.522700e-10</td>\n",
       "      <td>3.474300e-05</td>\n",
       "      <td>3.490500e-06</td>\n",
       "      <td>MBA</td>\n",
       "      <td>0.52191</td>\n",
       "    </tr>\n",
       "  </tbody>\n",
       "</table>\n",
       "<p>5 rows × 42 columns</p>\n",
       "</div>"
      ],
      "text/plain": [
       "         id    spkid       full_name pdes     name prefix neo pha     H  \\\n",
       "0  a0000001  2000001         1 Ceres    1    Ceres    NaN   N   N  3.40   \n",
       "1  a0000002  2000002        2 Pallas    2   Pallas    NaN   N   N  4.20   \n",
       "2  a0000003  2000003          3 Juno    3     Juno    NaN   N   N  5.33   \n",
       "3  a0000004  2000004         4 Vesta    4    Vesta    NaN   N   N  3.00   \n",
       "4  a0000005  2000005       5 Astraea    5  Astraea    NaN   N   N  6.90   \n",
       "\n",
       "  orbit_id  ...       sigma_i      sigma_om       sigma_w      sigma_ma  \\\n",
       "0   JPL 47  ...  4.608900e-09  6.168800e-08  6.624800e-08  7.820700e-09   \n",
       "1   JPL 37  ...  3.469400e-06  6.272400e-06  9.128200e-06  8.859100e-06   \n",
       "2  JPL 112  ...  3.223100e-06  1.664600e-05  1.772100e-05  8.110400e-06   \n",
       "3   JPL 35  ...  2.170600e-07  3.880800e-07  1.789300e-07  1.206800e-06   \n",
       "4  JPL 114  ...  2.740800e-06  2.894900e-05  2.984200e-05  8.303800e-06   \n",
       "\n",
       "       sigma_ad       sigma_n      sigma_tp     sigma_per  class      rms  \n",
       "0  1.111300e-11  1.196500e-12  3.782900e-08  9.415900e-09    MBA  0.43301  \n",
       "1  4.961300e-09  4.653600e-10  4.078700e-05  3.680700e-06    MBA  0.35936  \n",
       "2  4.363900e-09  4.413400e-10  3.528800e-05  3.107200e-06    MBA  0.33848  \n",
       "3  1.648600e-09  2.612500e-10  4.103700e-06  1.274900e-06    MBA  0.39980  \n",
       "4  4.729000e-09  5.522700e-10  3.474300e-05  3.490500e-06    MBA  0.52191  \n",
       "\n",
       "[5 rows x 42 columns]"
      ]
     },
     "execution_count": 20,
     "metadata": {},
     "output_type": "execute_result"
    }
   ],
   "source": [
    "df_cleaned.head()"
   ]
  },
  {
   "cell_type": "markdown",
   "id": "4954a418",
   "metadata": {},
   "source": [
    "### Categorical Missing Values\n",
    "\n",
    "Now, let us process the categorical missing values. Take a look at neo(Near Earth Object Flag) and pha(Potentially Hazardous Asteroid flag). \n",
    "Since these are categorical values, we cannot fill mean of their respective columns. One option is to use the mode, the most frequently occuring value, of that respective column to fill the null values. \n",
    "Let us see the pha column. At first, replacing null with mode seemed like a good idea, but we might fill incorrect values in our dataset.\n",
    "\n",
    "### Decision\n",
    "I have made a decision to drop those missing 19921 values rather than replacing them. This is because pha is a very important column as I will be using it for predicting whether certain asteroids are hazardious for us or not. I don't want to add wrong information to my dataset which might affect my model's performance later."
   ]
  },
  {
   "cell_type": "code",
   "execution_count": 21,
   "id": "73b68d3c",
   "metadata": {},
   "outputs": [
    {
     "name": "stdout",
     "output_type": "stream",
     "text": [
      "Dataset size after dropping rows with null 'pha': (938603, 42)\n"
     ]
    }
   ],
   "source": [
    "# Drop rows where 'pha' is null\n",
    "df_cleaned = df_cleaned.dropna(subset=['pha'])\n",
    "\n",
    "# Check the dataset size after dropping\n",
    "print(\"Dataset size after dropping rows with null 'pha':\", df_cleaned.shape)"
   ]
  },
  {
   "cell_type": "markdown",
   "id": "51e92b70",
   "metadata": {},
   "source": [
    "For 'neo' , we will fill missing values as the mode of that column. I am doing this to demonstrate that we do have an option of filling missing values with mode"
   ]
  },
  {
   "cell_type": "code",
   "execution_count": 23,
   "id": "542d12ca",
   "metadata": {},
   "outputs": [
    {
     "name": "stdout",
     "output_type": "stream",
     "text": [
      "Missing Values count in NEO column\n",
      "0\n"
     ]
    }
   ],
   "source": [
    "# Calculate the mode of the 'neo' column\n",
    "neo_mode = df_cleaned['neo'].mode()[0]\n",
    "\n",
    "# Fill missing values in 'neo' with the mode\n",
    "df_cleaned['neo'] = df_cleaned['neo'].fillna(neo_mode)\n",
    "\n",
    "# Check if missing values are filled\n",
    "print('Missing Values count in NEO column')\n",
    "print(df_cleaned['neo'].isnull().sum())"
   ]
  },
  {
   "cell_type": "code",
   "execution_count": 24,
   "id": "b1441a60",
   "metadata": {},
   "outputs": [
    {
     "data": {
      "text/html": [
       "<div>\n",
       "<style scoped>\n",
       "    .dataframe tbody tr th:only-of-type {\n",
       "        vertical-align: middle;\n",
       "    }\n",
       "\n",
       "    .dataframe tbody tr th {\n",
       "        vertical-align: top;\n",
       "    }\n",
       "\n",
       "    .dataframe thead th {\n",
       "        text-align: right;\n",
       "    }\n",
       "</style>\n",
       "<table border=\"1\" class=\"dataframe\">\n",
       "  <thead>\n",
       "    <tr style=\"text-align: right;\">\n",
       "      <th></th>\n",
       "      <th>id</th>\n",
       "      <th>spkid</th>\n",
       "      <th>full_name</th>\n",
       "      <th>pdes</th>\n",
       "      <th>name</th>\n",
       "      <th>prefix</th>\n",
       "      <th>neo</th>\n",
       "      <th>pha</th>\n",
       "      <th>H</th>\n",
       "      <th>orbit_id</th>\n",
       "      <th>...</th>\n",
       "      <th>sigma_i</th>\n",
       "      <th>sigma_om</th>\n",
       "      <th>sigma_w</th>\n",
       "      <th>sigma_ma</th>\n",
       "      <th>sigma_ad</th>\n",
       "      <th>sigma_n</th>\n",
       "      <th>sigma_tp</th>\n",
       "      <th>sigma_per</th>\n",
       "      <th>class</th>\n",
       "      <th>rms</th>\n",
       "    </tr>\n",
       "  </thead>\n",
       "  <tbody>\n",
       "    <tr>\n",
       "      <th>0</th>\n",
       "      <td>a0000001</td>\n",
       "      <td>2000001</td>\n",
       "      <td>1 Ceres</td>\n",
       "      <td>1</td>\n",
       "      <td>Ceres</td>\n",
       "      <td>NaN</td>\n",
       "      <td>N</td>\n",
       "      <td>N</td>\n",
       "      <td>3.40</td>\n",
       "      <td>JPL 47</td>\n",
       "      <td>...</td>\n",
       "      <td>4.608900e-09</td>\n",
       "      <td>6.168800e-08</td>\n",
       "      <td>6.624800e-08</td>\n",
       "      <td>7.820700e-09</td>\n",
       "      <td>1.111300e-11</td>\n",
       "      <td>1.196500e-12</td>\n",
       "      <td>3.782900e-08</td>\n",
       "      <td>9.415900e-09</td>\n",
       "      <td>MBA</td>\n",
       "      <td>0.43301</td>\n",
       "    </tr>\n",
       "    <tr>\n",
       "      <th>1</th>\n",
       "      <td>a0000002</td>\n",
       "      <td>2000002</td>\n",
       "      <td>2 Pallas</td>\n",
       "      <td>2</td>\n",
       "      <td>Pallas</td>\n",
       "      <td>NaN</td>\n",
       "      <td>N</td>\n",
       "      <td>N</td>\n",
       "      <td>4.20</td>\n",
       "      <td>JPL 37</td>\n",
       "      <td>...</td>\n",
       "      <td>3.469400e-06</td>\n",
       "      <td>6.272400e-06</td>\n",
       "      <td>9.128200e-06</td>\n",
       "      <td>8.859100e-06</td>\n",
       "      <td>4.961300e-09</td>\n",
       "      <td>4.653600e-10</td>\n",
       "      <td>4.078700e-05</td>\n",
       "      <td>3.680700e-06</td>\n",
       "      <td>MBA</td>\n",
       "      <td>0.35936</td>\n",
       "    </tr>\n",
       "    <tr>\n",
       "      <th>2</th>\n",
       "      <td>a0000003</td>\n",
       "      <td>2000003</td>\n",
       "      <td>3 Juno</td>\n",
       "      <td>3</td>\n",
       "      <td>Juno</td>\n",
       "      <td>NaN</td>\n",
       "      <td>N</td>\n",
       "      <td>N</td>\n",
       "      <td>5.33</td>\n",
       "      <td>JPL 112</td>\n",
       "      <td>...</td>\n",
       "      <td>3.223100e-06</td>\n",
       "      <td>1.664600e-05</td>\n",
       "      <td>1.772100e-05</td>\n",
       "      <td>8.110400e-06</td>\n",
       "      <td>4.363900e-09</td>\n",
       "      <td>4.413400e-10</td>\n",
       "      <td>3.528800e-05</td>\n",
       "      <td>3.107200e-06</td>\n",
       "      <td>MBA</td>\n",
       "      <td>0.33848</td>\n",
       "    </tr>\n",
       "    <tr>\n",
       "      <th>3</th>\n",
       "      <td>a0000004</td>\n",
       "      <td>2000004</td>\n",
       "      <td>4 Vesta</td>\n",
       "      <td>4</td>\n",
       "      <td>Vesta</td>\n",
       "      <td>NaN</td>\n",
       "      <td>N</td>\n",
       "      <td>N</td>\n",
       "      <td>3.00</td>\n",
       "      <td>JPL 35</td>\n",
       "      <td>...</td>\n",
       "      <td>2.170600e-07</td>\n",
       "      <td>3.880800e-07</td>\n",
       "      <td>1.789300e-07</td>\n",
       "      <td>1.206800e-06</td>\n",
       "      <td>1.648600e-09</td>\n",
       "      <td>2.612500e-10</td>\n",
       "      <td>4.103700e-06</td>\n",
       "      <td>1.274900e-06</td>\n",
       "      <td>MBA</td>\n",
       "      <td>0.39980</td>\n",
       "    </tr>\n",
       "    <tr>\n",
       "      <th>4</th>\n",
       "      <td>a0000005</td>\n",
       "      <td>2000005</td>\n",
       "      <td>5 Astraea</td>\n",
       "      <td>5</td>\n",
       "      <td>Astraea</td>\n",
       "      <td>NaN</td>\n",
       "      <td>N</td>\n",
       "      <td>N</td>\n",
       "      <td>6.90</td>\n",
       "      <td>JPL 114</td>\n",
       "      <td>...</td>\n",
       "      <td>2.740800e-06</td>\n",
       "      <td>2.894900e-05</td>\n",
       "      <td>2.984200e-05</td>\n",
       "      <td>8.303800e-06</td>\n",
       "      <td>4.729000e-09</td>\n",
       "      <td>5.522700e-10</td>\n",
       "      <td>3.474300e-05</td>\n",
       "      <td>3.490500e-06</td>\n",
       "      <td>MBA</td>\n",
       "      <td>0.52191</td>\n",
       "    </tr>\n",
       "  </tbody>\n",
       "</table>\n",
       "<p>5 rows × 42 columns</p>\n",
       "</div>"
      ],
      "text/plain": [
       "         id    spkid       full_name pdes     name prefix neo pha     H  \\\n",
       "0  a0000001  2000001         1 Ceres    1    Ceres    NaN   N   N  3.40   \n",
       "1  a0000002  2000002        2 Pallas    2   Pallas    NaN   N   N  4.20   \n",
       "2  a0000003  2000003          3 Juno    3     Juno    NaN   N   N  5.33   \n",
       "3  a0000004  2000004         4 Vesta    4    Vesta    NaN   N   N  3.00   \n",
       "4  a0000005  2000005       5 Astraea    5  Astraea    NaN   N   N  6.90   \n",
       "\n",
       "  orbit_id  ...       sigma_i      sigma_om       sigma_w      sigma_ma  \\\n",
       "0   JPL 47  ...  4.608900e-09  6.168800e-08  6.624800e-08  7.820700e-09   \n",
       "1   JPL 37  ...  3.469400e-06  6.272400e-06  9.128200e-06  8.859100e-06   \n",
       "2  JPL 112  ...  3.223100e-06  1.664600e-05  1.772100e-05  8.110400e-06   \n",
       "3   JPL 35  ...  2.170600e-07  3.880800e-07  1.789300e-07  1.206800e-06   \n",
       "4  JPL 114  ...  2.740800e-06  2.894900e-05  2.984200e-05  8.303800e-06   \n",
       "\n",
       "       sigma_ad       sigma_n      sigma_tp     sigma_per  class      rms  \n",
       "0  1.111300e-11  1.196500e-12  3.782900e-08  9.415900e-09    MBA  0.43301  \n",
       "1  4.961300e-09  4.653600e-10  4.078700e-05  3.680700e-06    MBA  0.35936  \n",
       "2  4.363900e-09  4.413400e-10  3.528800e-05  3.107200e-06    MBA  0.33848  \n",
       "3  1.648600e-09  2.612500e-10  4.103700e-06  1.274900e-06    MBA  0.39980  \n",
       "4  4.729000e-09  5.522700e-10  3.474300e-05  3.490500e-06    MBA  0.52191  \n",
       "\n",
       "[5 rows x 42 columns]"
      ]
     },
     "execution_count": 24,
     "metadata": {},
     "output_type": "execute_result"
    }
   ],
   "source": [
    "df_cleaned.head()"
   ]
  },
  {
   "cell_type": "markdown",
   "id": "e553a111",
   "metadata": {},
   "source": [
    "### Feature Encoding for Categorical Variables"
   ]
  },
  {
   "cell_type": "markdown",
   "id": "774ec46c",
   "metadata": {},
   "source": [
    "For columns 'pha' and 'neo', we will do an ordinal encoding as there is an order in the values. \n",
    "\n",
    "Column : 'pha' "
   ]
  },
  {
   "cell_type": "code",
   "execution_count": 25,
   "id": "4fd560ae",
   "metadata": {},
   "outputs": [
    {
     "name": "stdout",
     "output_type": "stream",
     "text": [
      "[0 1]\n"
     ]
    }
   ],
   "source": [
    "# Map the 'pha' values to 0 and 1\n",
    "df_cleaned['pha'] = df_cleaned['pha'].map({'N': 0, 'Y': 1})\n",
    "\n",
    "# Check the unique values in the 'pha' column to confirm the encoding\n",
    "print(df_cleaned['pha'].unique())"
   ]
  },
  {
   "cell_type": "markdown",
   "id": "86d5dda7",
   "metadata": {},
   "source": [
    "Column 'neo'"
   ]
  },
  {
   "cell_type": "code",
   "execution_count": 27,
   "id": "2c73fed0",
   "metadata": {},
   "outputs": [
    {
     "name": "stdout",
     "output_type": "stream",
     "text": [
      "[0 1]\n"
     ]
    }
   ],
   "source": [
    "# Map the 'pha' values to 0 and 1\n",
    "df_cleaned['neo'] = df_cleaned['neo'].map({'N': 0, 'Y': 1})\n",
    "\n",
    "# Check the unique values in the 'pha' column to confirm the encoding\n",
    "print(df_cleaned['neo'].unique())"
   ]
  },
  {
   "cell_type": "markdown",
   "id": "e45576a4",
   "metadata": {},
   "source": [
    "For column 'class', we can use one-hot encoding as there isn't any order to the values. They simply belong to any of the possible classes"
   ]
  },
  {
   "cell_type": "code",
   "execution_count": 30,
   "id": "a526315a",
   "metadata": {},
   "outputs": [
    {
     "name": "stdout",
     "output_type": "stream",
     "text": [
      "         id    spkid       full_name pdes     name prefix  neo  pha     H  \\\n",
      "0  a0000001  2000001         1 Ceres    1    Ceres    NaN    0    0  3.40   \n",
      "1  a0000002  2000002        2 Pallas    2   Pallas    NaN    0    0  4.20   \n",
      "2  a0000003  2000003          3 Juno    3     Juno    NaN    0    0  5.33   \n",
      "3  a0000004  2000004         4 Vesta    4    Vesta    NaN    0    0  3.00   \n",
      "4  a0000005  2000005       5 Astraea    5  Astraea    NaN    0    0  6.90   \n",
      "\n",
      "  orbit_id  ...  class_ATE  class_CEN  class_HYA class_IEO  class_IMB  \\\n",
      "0   JPL 47  ...          0          0          0         0          0   \n",
      "1   JPL 37  ...          0          0          0         0          0   \n",
      "2  JPL 112  ...          0          0          0         0          0   \n",
      "3   JPL 35  ...          0          0          0         0          0   \n",
      "4  JPL 114  ...          0          0          0         0          0   \n",
      "\n",
      "   class_MBA  class_MCA  class_OMB  class_TJN  class_TNO  \n",
      "0          1          0          0          0          0  \n",
      "1          1          0          0          0          0  \n",
      "2          1          0          0          0          0  \n",
      "3          1          0          0          0          0  \n",
      "4          1          0          0          0          0  \n",
      "\n",
      "[5 rows x 53 columns]\n"
     ]
    }
   ],
   "source": [
    "# Apply one-hot encoding to the 'class' column in df_cleaned\n",
    "df_cleaned = pd.get_dummies(df_cleaned, columns=['class'], drop_first=True)\n",
    "\n",
    "# Check the updated DataFrame with one-hot encoded columns\n",
    "print(df_cleaned.head())"
   ]
  },
  {
   "cell_type": "markdown",
   "id": "c84a61f4",
   "metadata": {},
   "source": [
    "## Feature Selection\n",
    "\n",
    "Our dataset has a lot of columns and I am primarily focused on predicting whether an asteroid falls in the category of pha or not. For that, we will select some important features as our independent variable X. \n",
    "1. H (Absolute Magnitude): This gives us insight into the size/brightness of the asteroid, which is often a key factor in hazard classification.\n",
    "\n",
    "2. moid (Minimum Orbit Intersection Distance): The distance between the asteroid’s orbit and Earth’s orbit is crucial for assessing potential danger.\n",
    "\n",
    "3. a (Semi-Major Axis): The average distance of the asteroid from the sun could be relevant for hazard prediction.\n",
    "\n",
    "4. q (Perihelion Distance): How close the asteroid comes to the sun could indicate how its orbit interacts with Earth’s orbit.\n",
    "\n",
    "5. i (Inclination): The tilt of the orbit might indicate whether the asteroid’s path crosses near Earth's orbit.\n",
    "\n",
    "6. sigma_e (uncertainty in eccentricity) as the uncertainty feature, as eccentricity is a core orbital parameter."
   ]
  },
  {
   "cell_type": "code",
   "execution_count": 33,
   "id": "3f16ddb8",
   "metadata": {},
   "outputs": [
    {
     "name": "stdout",
     "output_type": "stream",
     "text": [
      "Training set shape: (750882, 6) (750882,)\n",
      "Test set shape: (187721, 6) (187721,)\n"
     ]
    }
   ],
   "source": [
    "#Independent Variable X\n",
    "X = df_cleaned[['H', 'moid', 'a', 'q', 'i', 'sigma_e']]\n",
    "\n",
    "# Target, dependent variable y\n",
    "y = df_cleaned['pha']  \n",
    "\n",
    "# Perform the train-test split (80% training, 20% test)\n",
    "X_train, X_test, y_train, y_test = train_test_split(X, y, test_size=0.2, random_state=42)\n",
    "\n",
    "# Check the shape of the split datasets\n",
    "print(\"Training set shape:\", X_train.shape, y_train.shape)\n",
    "print(\"Test set shape:\", X_test.shape, y_test.shape)"
   ]
  },
  {
   "cell_type": "markdown",
   "id": "8edb487e",
   "metadata": {},
   "source": [
    "## Variable Scaling\n",
    "\n",
    "Now, we can perform scaling by using standardization of our numeric variables. We are performing this step after the test-train split to avoid data leakage."
   ]
  },
  {
   "cell_type": "code",
   "execution_count": 34,
   "id": "e965bb2d",
   "metadata": {},
   "outputs": [],
   "source": [
    "# Initialize the scaler\n",
    "scaler = StandardScaler()\n",
    "\n",
    "# Fit the scaler on the training data and transform it\n",
    "X_train_scaled = scaler.fit_transform(X_train)\n",
    "\n",
    "# Transform the test data using the same scaler\n",
    "X_test_scaled = scaler.transform(X_test)"
   ]
  },
  {
   "cell_type": "markdown",
   "id": "5bd45155",
   "metadata": {},
   "source": [
    "# Logistic Regression Model\n",
    "\n",
    "#### Hyperparameter Tuning\n",
    "We will use GridSearchCV to find the best regularization parameter C."
   ]
  },
  {
   "cell_type": "code",
   "execution_count": 35,
   "id": "bbed7590",
   "metadata": {},
   "outputs": [],
   "source": [
    "# Importing the required libraries\n",
    "from sklearn.model_selection import GridSearchCV\n",
    "from sklearn.linear_model import LogisticRegression"
   ]
  },
  {
   "cell_type": "code",
   "execution_count": 39,
   "id": "d94fd724",
   "metadata": {},
   "outputs": [
    {
     "data": {
      "text/plain": [
       "H          6262\n",
       "moid          0\n",
       "a             0\n",
       "q             0\n",
       "i             0\n",
       "sigma_e       0\n",
       "dtype: int64"
      ]
     },
     "execution_count": 39,
     "metadata": {},
     "output_type": "execute_result"
    }
   ],
   "source": [
    "X.isnull().sum()"
   ]
  },
  {
   "cell_type": "markdown",
   "id": "e97d5796",
   "metadata": {},
   "source": [
    "Since we missed filling null values for 'H' column, let us do that now by filling it by mean of the column"
   ]
  },
  {
   "cell_type": "code",
   "execution_count": 40,
   "id": "a04f78c9",
   "metadata": {},
   "outputs": [
    {
     "name": "stderr",
     "output_type": "stream",
     "text": [
      "C:\\Users\\princ\\AppData\\Local\\Temp\\ipykernel_7672\\3467269834.py:5: SettingWithCopyWarning: \n",
      "A value is trying to be set on a copy of a slice from a DataFrame.\n",
      "Try using .loc[row_indexer,col_indexer] = value instead\n",
      "\n",
      "See the caveats in the documentation: https://pandas.pydata.org/pandas-docs/stable/user_guide/indexing.html#returning-a-view-versus-a-copy\n",
      "  X['H'] = X['H'].fillna(mean_H)\n"
     ]
    }
   ],
   "source": [
    "# Calculate the mean of the 'H' column\n",
    "mean_H = X['H'].mean()  \n",
    "\n",
    "# Fill NaN values in 'H' with the mean\n",
    "X['H'] = X['H'].fillna(mean_H)  "
   ]
  },
  {
   "cell_type": "code",
   "execution_count": 41,
   "id": "cd2eb758",
   "metadata": {},
   "outputs": [
    {
     "name": "stdout",
     "output_type": "stream",
     "text": [
      "H          0\n",
      "moid       0\n",
      "a          0\n",
      "q          0\n",
      "i          0\n",
      "sigma_e    0\n",
      "dtype: int64\n"
     ]
    }
   ],
   "source": [
    "# Checking for NaNs again\n",
    "print(X.isnull().sum())"
   ]
  },
  {
   "cell_type": "code",
   "execution_count": 55,
   "id": "5dbdeb6b",
   "metadata": {},
   "outputs": [
    {
     "name": "stderr",
     "output_type": "stream",
     "text": [
      "C:\\Users\\princ\\anaconda3\\lib\\site-packages\\sklearn\\model_selection\\_validation.py:372: FitFailedWarning: \n",
      "25 fits failed out of a total of 25.\n",
      "The score on these train-test partitions for these parameters will be set to nan.\n",
      "If these failures are not expected, you can try to debug them by setting error_score='raise'.\n",
      "\n",
      "Below are more details about the failures:\n",
      "--------------------------------------------------------------------------------\n",
      "25 fits failed with the following error:\n",
      "Traceback (most recent call last):\n",
      "  File \"C:\\Users\\princ\\anaconda3\\lib\\site-packages\\sklearn\\model_selection\\_validation.py\", line 680, in _fit_and_score\n",
      "    estimator.fit(X_train, y_train, **fit_params)\n",
      "  File \"C:\\Users\\princ\\anaconda3\\lib\\site-packages\\sklearn\\linear_model\\_logistic.py\", line 1508, in fit\n",
      "    X, y = self._validate_data(\n",
      "  File \"C:\\Users\\princ\\anaconda3\\lib\\site-packages\\sklearn\\base.py\", line 581, in _validate_data\n",
      "    X, y = check_X_y(X, y, **check_params)\n",
      "  File \"C:\\Users\\princ\\anaconda3\\lib\\site-packages\\sklearn\\utils\\validation.py\", line 964, in check_X_y\n",
      "    X = check_array(\n",
      "  File \"C:\\Users\\princ\\anaconda3\\lib\\site-packages\\sklearn\\utils\\validation.py\", line 800, in check_array\n",
      "    _assert_all_finite(array, allow_nan=force_all_finite == \"allow-nan\")\n",
      "  File \"C:\\Users\\princ\\anaconda3\\lib\\site-packages\\sklearn\\utils\\validation.py\", line 114, in _assert_all_finite\n",
      "    raise ValueError(\n",
      "ValueError: Input contains NaN, infinity or a value too large for dtype('float64').\n",
      "\n",
      "  warnings.warn(some_fits_failed_message, FitFailedWarning)\n",
      "C:\\Users\\princ\\anaconda3\\lib\\site-packages\\sklearn\\model_selection\\_search.py:969: UserWarning: One or more of the test scores are non-finite: [nan nan nan nan nan]\n",
      "  warnings.warn(\n"
     ]
    },
    {
     "ename": "ValueError",
     "evalue": "Input contains NaN, infinity or a value too large for dtype('float64').",
     "output_type": "error",
     "traceback": [
      "\u001b[1;31m---------------------------------------------------------------------------\u001b[0m",
      "\u001b[1;31mValueError\u001b[0m                                Traceback (most recent call last)",
      "Input \u001b[1;32mIn [55]\u001b[0m, in \u001b[0;36m<cell line: 11>\u001b[1;34m()\u001b[0m\n\u001b[0;32m      8\u001b[0m grid_search_lr \u001b[38;5;241m=\u001b[39m GridSearchCV(lr, param_grid_lr, cv\u001b[38;5;241m=\u001b[39m\u001b[38;5;241m5\u001b[39m, scoring\u001b[38;5;241m=\u001b[39m\u001b[38;5;124m'\u001b[39m\u001b[38;5;124mf1\u001b[39m\u001b[38;5;124m'\u001b[39m)\n\u001b[0;32m     10\u001b[0m \u001b[38;5;66;03m# Fit the model on the training data\u001b[39;00m\n\u001b[1;32m---> 11\u001b[0m \u001b[43mgrid_search_lr\u001b[49m\u001b[38;5;241;43m.\u001b[39;49m\u001b[43mfit\u001b[49m\u001b[43m(\u001b[49m\u001b[43mX_train\u001b[49m\u001b[43m,\u001b[49m\u001b[43m \u001b[49m\u001b[43my_train\u001b[49m\u001b[43m)\u001b[49m\n\u001b[0;32m     13\u001b[0m \u001b[38;5;66;03m# Best parameters for logistic regression\u001b[39;00m\n\u001b[0;32m     14\u001b[0m \u001b[38;5;28mprint\u001b[39m(\u001b[38;5;124m\"\u001b[39m\u001b[38;5;124mBest parameters for Logistic Regression:\u001b[39m\u001b[38;5;124m\"\u001b[39m, grid_search_lr\u001b[38;5;241m.\u001b[39mbest_params_)\n",
      "File \u001b[1;32m~\\anaconda3\\lib\\site-packages\\sklearn\\model_selection\\_search.py:926\u001b[0m, in \u001b[0;36mBaseSearchCV.fit\u001b[1;34m(self, X, y, groups, **fit_params)\u001b[0m\n\u001b[0;32m    924\u001b[0m refit_start_time \u001b[38;5;241m=\u001b[39m time\u001b[38;5;241m.\u001b[39mtime()\n\u001b[0;32m    925\u001b[0m \u001b[38;5;28;01mif\u001b[39;00m y \u001b[38;5;129;01mis\u001b[39;00m \u001b[38;5;129;01mnot\u001b[39;00m \u001b[38;5;28;01mNone\u001b[39;00m:\n\u001b[1;32m--> 926\u001b[0m     \u001b[38;5;28mself\u001b[39m\u001b[38;5;241m.\u001b[39mbest_estimator_\u001b[38;5;241m.\u001b[39mfit(X, y, \u001b[38;5;241m*\u001b[39m\u001b[38;5;241m*\u001b[39mfit_params)\n\u001b[0;32m    927\u001b[0m \u001b[38;5;28;01melse\u001b[39;00m:\n\u001b[0;32m    928\u001b[0m     \u001b[38;5;28mself\u001b[39m\u001b[38;5;241m.\u001b[39mbest_estimator_\u001b[38;5;241m.\u001b[39mfit(X, \u001b[38;5;241m*\u001b[39m\u001b[38;5;241m*\u001b[39mfit_params)\n",
      "File \u001b[1;32m~\\anaconda3\\lib\\site-packages\\sklearn\\linear_model\\_logistic.py:1508\u001b[0m, in \u001b[0;36mLogisticRegression.fit\u001b[1;34m(self, X, y, sample_weight)\u001b[0m\n\u001b[0;32m   1505\u001b[0m \u001b[38;5;28;01melse\u001b[39;00m:\n\u001b[0;32m   1506\u001b[0m     _dtype \u001b[38;5;241m=\u001b[39m [np\u001b[38;5;241m.\u001b[39mfloat64, np\u001b[38;5;241m.\u001b[39mfloat32]\n\u001b[1;32m-> 1508\u001b[0m X, y \u001b[38;5;241m=\u001b[39m \u001b[38;5;28;43mself\u001b[39;49m\u001b[38;5;241;43m.\u001b[39;49m\u001b[43m_validate_data\u001b[49m\u001b[43m(\u001b[49m\n\u001b[0;32m   1509\u001b[0m \u001b[43m    \u001b[49m\u001b[43mX\u001b[49m\u001b[43m,\u001b[49m\n\u001b[0;32m   1510\u001b[0m \u001b[43m    \u001b[49m\u001b[43my\u001b[49m\u001b[43m,\u001b[49m\n\u001b[0;32m   1511\u001b[0m \u001b[43m    \u001b[49m\u001b[43maccept_sparse\u001b[49m\u001b[38;5;241;43m=\u001b[39;49m\u001b[38;5;124;43m\"\u001b[39;49m\u001b[38;5;124;43mcsr\u001b[39;49m\u001b[38;5;124;43m\"\u001b[39;49m\u001b[43m,\u001b[49m\n\u001b[0;32m   1512\u001b[0m \u001b[43m    \u001b[49m\u001b[43mdtype\u001b[49m\u001b[38;5;241;43m=\u001b[39;49m\u001b[43m_dtype\u001b[49m\u001b[43m,\u001b[49m\n\u001b[0;32m   1513\u001b[0m \u001b[43m    \u001b[49m\u001b[43morder\u001b[49m\u001b[38;5;241;43m=\u001b[39;49m\u001b[38;5;124;43m\"\u001b[39;49m\u001b[38;5;124;43mC\u001b[39;49m\u001b[38;5;124;43m\"\u001b[39;49m\u001b[43m,\u001b[49m\n\u001b[0;32m   1514\u001b[0m \u001b[43m    \u001b[49m\u001b[43maccept_large_sparse\u001b[49m\u001b[38;5;241;43m=\u001b[39;49m\u001b[43msolver\u001b[49m\u001b[43m \u001b[49m\u001b[38;5;129;43;01mnot\u001b[39;49;00m\u001b[43m \u001b[49m\u001b[38;5;129;43;01min\u001b[39;49;00m\u001b[43m \u001b[49m\u001b[43m[\u001b[49m\u001b[38;5;124;43m\"\u001b[39;49m\u001b[38;5;124;43mliblinear\u001b[39;49m\u001b[38;5;124;43m\"\u001b[39;49m\u001b[43m,\u001b[49m\u001b[43m \u001b[49m\u001b[38;5;124;43m\"\u001b[39;49m\u001b[38;5;124;43msag\u001b[39;49m\u001b[38;5;124;43m\"\u001b[39;49m\u001b[43m,\u001b[49m\u001b[43m \u001b[49m\u001b[38;5;124;43m\"\u001b[39;49m\u001b[38;5;124;43msaga\u001b[39;49m\u001b[38;5;124;43m\"\u001b[39;49m\u001b[43m]\u001b[49m\u001b[43m,\u001b[49m\n\u001b[0;32m   1515\u001b[0m \u001b[43m\u001b[49m\u001b[43m)\u001b[49m\n\u001b[0;32m   1516\u001b[0m check_classification_targets(y)\n\u001b[0;32m   1517\u001b[0m \u001b[38;5;28mself\u001b[39m\u001b[38;5;241m.\u001b[39mclasses_ \u001b[38;5;241m=\u001b[39m np\u001b[38;5;241m.\u001b[39munique(y)\n",
      "File \u001b[1;32m~\\anaconda3\\lib\\site-packages\\sklearn\\base.py:581\u001b[0m, in \u001b[0;36mBaseEstimator._validate_data\u001b[1;34m(self, X, y, reset, validate_separately, **check_params)\u001b[0m\n\u001b[0;32m    579\u001b[0m         y \u001b[38;5;241m=\u001b[39m check_array(y, \u001b[38;5;241m*\u001b[39m\u001b[38;5;241m*\u001b[39mcheck_y_params)\n\u001b[0;32m    580\u001b[0m     \u001b[38;5;28;01melse\u001b[39;00m:\n\u001b[1;32m--> 581\u001b[0m         X, y \u001b[38;5;241m=\u001b[39m check_X_y(X, y, \u001b[38;5;241m*\u001b[39m\u001b[38;5;241m*\u001b[39mcheck_params)\n\u001b[0;32m    582\u001b[0m     out \u001b[38;5;241m=\u001b[39m X, y\n\u001b[0;32m    584\u001b[0m \u001b[38;5;28;01mif\u001b[39;00m \u001b[38;5;129;01mnot\u001b[39;00m no_val_X \u001b[38;5;129;01mand\u001b[39;00m check_params\u001b[38;5;241m.\u001b[39mget(\u001b[38;5;124m\"\u001b[39m\u001b[38;5;124mensure_2d\u001b[39m\u001b[38;5;124m\"\u001b[39m, \u001b[38;5;28;01mTrue\u001b[39;00m):\n",
      "File \u001b[1;32m~\\anaconda3\\lib\\site-packages\\sklearn\\utils\\validation.py:964\u001b[0m, in \u001b[0;36mcheck_X_y\u001b[1;34m(X, y, accept_sparse, accept_large_sparse, dtype, order, copy, force_all_finite, ensure_2d, allow_nd, multi_output, ensure_min_samples, ensure_min_features, y_numeric, estimator)\u001b[0m\n\u001b[0;32m    961\u001b[0m \u001b[38;5;28;01mif\u001b[39;00m y \u001b[38;5;129;01mis\u001b[39;00m \u001b[38;5;28;01mNone\u001b[39;00m:\n\u001b[0;32m    962\u001b[0m     \u001b[38;5;28;01mraise\u001b[39;00m \u001b[38;5;167;01mValueError\u001b[39;00m(\u001b[38;5;124m\"\u001b[39m\u001b[38;5;124my cannot be None\u001b[39m\u001b[38;5;124m\"\u001b[39m)\n\u001b[1;32m--> 964\u001b[0m X \u001b[38;5;241m=\u001b[39m \u001b[43mcheck_array\u001b[49m\u001b[43m(\u001b[49m\n\u001b[0;32m    965\u001b[0m \u001b[43m    \u001b[49m\u001b[43mX\u001b[49m\u001b[43m,\u001b[49m\n\u001b[0;32m    966\u001b[0m \u001b[43m    \u001b[49m\u001b[43maccept_sparse\u001b[49m\u001b[38;5;241;43m=\u001b[39;49m\u001b[43maccept_sparse\u001b[49m\u001b[43m,\u001b[49m\n\u001b[0;32m    967\u001b[0m \u001b[43m    \u001b[49m\u001b[43maccept_large_sparse\u001b[49m\u001b[38;5;241;43m=\u001b[39;49m\u001b[43maccept_large_sparse\u001b[49m\u001b[43m,\u001b[49m\n\u001b[0;32m    968\u001b[0m \u001b[43m    \u001b[49m\u001b[43mdtype\u001b[49m\u001b[38;5;241;43m=\u001b[39;49m\u001b[43mdtype\u001b[49m\u001b[43m,\u001b[49m\n\u001b[0;32m    969\u001b[0m \u001b[43m    \u001b[49m\u001b[43morder\u001b[49m\u001b[38;5;241;43m=\u001b[39;49m\u001b[43morder\u001b[49m\u001b[43m,\u001b[49m\n\u001b[0;32m    970\u001b[0m \u001b[43m    \u001b[49m\u001b[43mcopy\u001b[49m\u001b[38;5;241;43m=\u001b[39;49m\u001b[43mcopy\u001b[49m\u001b[43m,\u001b[49m\n\u001b[0;32m    971\u001b[0m \u001b[43m    \u001b[49m\u001b[43mforce_all_finite\u001b[49m\u001b[38;5;241;43m=\u001b[39;49m\u001b[43mforce_all_finite\u001b[49m\u001b[43m,\u001b[49m\n\u001b[0;32m    972\u001b[0m \u001b[43m    \u001b[49m\u001b[43mensure_2d\u001b[49m\u001b[38;5;241;43m=\u001b[39;49m\u001b[43mensure_2d\u001b[49m\u001b[43m,\u001b[49m\n\u001b[0;32m    973\u001b[0m \u001b[43m    \u001b[49m\u001b[43mallow_nd\u001b[49m\u001b[38;5;241;43m=\u001b[39;49m\u001b[43mallow_nd\u001b[49m\u001b[43m,\u001b[49m\n\u001b[0;32m    974\u001b[0m \u001b[43m    \u001b[49m\u001b[43mensure_min_samples\u001b[49m\u001b[38;5;241;43m=\u001b[39;49m\u001b[43mensure_min_samples\u001b[49m\u001b[43m,\u001b[49m\n\u001b[0;32m    975\u001b[0m \u001b[43m    \u001b[49m\u001b[43mensure_min_features\u001b[49m\u001b[38;5;241;43m=\u001b[39;49m\u001b[43mensure_min_features\u001b[49m\u001b[43m,\u001b[49m\n\u001b[0;32m    976\u001b[0m \u001b[43m    \u001b[49m\u001b[43mestimator\u001b[49m\u001b[38;5;241;43m=\u001b[39;49m\u001b[43mestimator\u001b[49m\u001b[43m,\u001b[49m\n\u001b[0;32m    977\u001b[0m \u001b[43m\u001b[49m\u001b[43m)\u001b[49m\n\u001b[0;32m    979\u001b[0m y \u001b[38;5;241m=\u001b[39m _check_y(y, multi_output\u001b[38;5;241m=\u001b[39mmulti_output, y_numeric\u001b[38;5;241m=\u001b[39my_numeric)\n\u001b[0;32m    981\u001b[0m check_consistent_length(X, y)\n",
      "File \u001b[1;32m~\\anaconda3\\lib\\site-packages\\sklearn\\utils\\validation.py:800\u001b[0m, in \u001b[0;36mcheck_array\u001b[1;34m(array, accept_sparse, accept_large_sparse, dtype, order, copy, force_all_finite, ensure_2d, allow_nd, ensure_min_samples, ensure_min_features, estimator)\u001b[0m\n\u001b[0;32m    794\u001b[0m         \u001b[38;5;28;01mraise\u001b[39;00m \u001b[38;5;167;01mValueError\u001b[39;00m(\n\u001b[0;32m    795\u001b[0m             \u001b[38;5;124m\"\u001b[39m\u001b[38;5;124mFound array with dim \u001b[39m\u001b[38;5;132;01m%d\u001b[39;00m\u001b[38;5;124m. \u001b[39m\u001b[38;5;132;01m%s\u001b[39;00m\u001b[38;5;124m expected <= 2.\u001b[39m\u001b[38;5;124m\"\u001b[39m\n\u001b[0;32m    796\u001b[0m             \u001b[38;5;241m%\u001b[39m (array\u001b[38;5;241m.\u001b[39mndim, estimator_name)\n\u001b[0;32m    797\u001b[0m         )\n\u001b[0;32m    799\u001b[0m     \u001b[38;5;28;01mif\u001b[39;00m force_all_finite:\n\u001b[1;32m--> 800\u001b[0m         \u001b[43m_assert_all_finite\u001b[49m\u001b[43m(\u001b[49m\u001b[43marray\u001b[49m\u001b[43m,\u001b[49m\u001b[43m \u001b[49m\u001b[43mallow_nan\u001b[49m\u001b[38;5;241;43m=\u001b[39;49m\u001b[43mforce_all_finite\u001b[49m\u001b[43m \u001b[49m\u001b[38;5;241;43m==\u001b[39;49m\u001b[43m \u001b[49m\u001b[38;5;124;43m\"\u001b[39;49m\u001b[38;5;124;43mallow-nan\u001b[39;49m\u001b[38;5;124;43m\"\u001b[39;49m\u001b[43m)\u001b[49m\n\u001b[0;32m    802\u001b[0m \u001b[38;5;28;01mif\u001b[39;00m ensure_min_samples \u001b[38;5;241m>\u001b[39m \u001b[38;5;241m0\u001b[39m:\n\u001b[0;32m    803\u001b[0m     n_samples \u001b[38;5;241m=\u001b[39m _num_samples(array)\n",
      "File \u001b[1;32m~\\anaconda3\\lib\\site-packages\\sklearn\\utils\\validation.py:114\u001b[0m, in \u001b[0;36m_assert_all_finite\u001b[1;34m(X, allow_nan, msg_dtype)\u001b[0m\n\u001b[0;32m    107\u001b[0m     \u001b[38;5;28;01mif\u001b[39;00m (\n\u001b[0;32m    108\u001b[0m         allow_nan\n\u001b[0;32m    109\u001b[0m         \u001b[38;5;129;01mand\u001b[39;00m np\u001b[38;5;241m.\u001b[39misinf(X)\u001b[38;5;241m.\u001b[39many()\n\u001b[0;32m    110\u001b[0m         \u001b[38;5;129;01mor\u001b[39;00m \u001b[38;5;129;01mnot\u001b[39;00m allow_nan\n\u001b[0;32m    111\u001b[0m         \u001b[38;5;129;01mand\u001b[39;00m \u001b[38;5;129;01mnot\u001b[39;00m np\u001b[38;5;241m.\u001b[39misfinite(X)\u001b[38;5;241m.\u001b[39mall()\n\u001b[0;32m    112\u001b[0m     ):\n\u001b[0;32m    113\u001b[0m         type_err \u001b[38;5;241m=\u001b[39m \u001b[38;5;124m\"\u001b[39m\u001b[38;5;124minfinity\u001b[39m\u001b[38;5;124m\"\u001b[39m \u001b[38;5;28;01mif\u001b[39;00m allow_nan \u001b[38;5;28;01melse\u001b[39;00m \u001b[38;5;124m\"\u001b[39m\u001b[38;5;124mNaN, infinity\u001b[39m\u001b[38;5;124m\"\u001b[39m\n\u001b[1;32m--> 114\u001b[0m         \u001b[38;5;28;01mraise\u001b[39;00m \u001b[38;5;167;01mValueError\u001b[39;00m(\n\u001b[0;32m    115\u001b[0m             msg_err\u001b[38;5;241m.\u001b[39mformat(\n\u001b[0;32m    116\u001b[0m                 type_err, msg_dtype \u001b[38;5;28;01mif\u001b[39;00m msg_dtype \u001b[38;5;129;01mis\u001b[39;00m \u001b[38;5;129;01mnot\u001b[39;00m \u001b[38;5;28;01mNone\u001b[39;00m \u001b[38;5;28;01melse\u001b[39;00m X\u001b[38;5;241m.\u001b[39mdtype\n\u001b[0;32m    117\u001b[0m             )\n\u001b[0;32m    118\u001b[0m         )\n\u001b[0;32m    119\u001b[0m \u001b[38;5;66;03m# for object dtype data, we only check for NaNs (GH-13254)\u001b[39;00m\n\u001b[0;32m    120\u001b[0m \u001b[38;5;28;01melif\u001b[39;00m X\u001b[38;5;241m.\u001b[39mdtype \u001b[38;5;241m==\u001b[39m np\u001b[38;5;241m.\u001b[39mdtype(\u001b[38;5;124m\"\u001b[39m\u001b[38;5;124mobject\u001b[39m\u001b[38;5;124m\"\u001b[39m) \u001b[38;5;129;01mand\u001b[39;00m \u001b[38;5;129;01mnot\u001b[39;00m allow_nan:\n",
      "\u001b[1;31mValueError\u001b[0m: Input contains NaN, infinity or a value too large for dtype('float64')."
     ]
    }
   ],
   "source": [
    "\n",
    "# Define the parameter grid\n",
    "param_grid_lr = {'C': [0.01, 0.1, 1, 10, 100]}\n",
    "\n",
    "# Initialize the Logistic Regression model\n",
    "lr = LogisticRegression(max_iter=1000, random_state=42)\n",
    "\n",
    "# Initialize GridSearchCV\n",
    "grid_search_lr = GridSearchCV(lr, param_grid_lr, cv=5, scoring='f1')\n",
    "\n",
    "# Fit the model on the training data\n",
    "grid_search_lr.fit(X_train, y_train)\n",
    "\n",
    "# Best parameters for logistic regression\n",
    "print(\"Best parameters for Logistic Regression:\", grid_search_lr.best_params_)\n"
   ]
  },
  {
   "cell_type": "markdown",
   "id": "80ff6fd3",
   "metadata": {},
   "source": [
    "## Error!\n",
    "\n",
    "Error suggests that there are some Nan, infinity or large valuues in our dataset. Let us check and fix that.\n"
   ]
  },
  {
   "cell_type": "code",
   "execution_count": 56,
   "id": "86da8bc7",
   "metadata": {},
   "outputs": [
    {
     "name": "stdout",
     "output_type": "stream",
     "text": [
      "Infinite values in X_train:\n",
      " H          0\n",
      "moid       0\n",
      "a          0\n",
      "q          0\n",
      "i          0\n",
      "sigma_e    0\n",
      "dtype: int64\n"
     ]
    }
   ],
   "source": [
    "# Check for infinite values in X_train\n",
    "infinity_check = np.isinf(X_train).sum()\n",
    "print(\"Infinite values in X_train:\\n\", infinity_check)\n"
   ]
  },
  {
   "cell_type": "code",
   "execution_count": 57,
   "id": "18cd02a9",
   "metadata": {},
   "outputs": [
    {
     "name": "stdout",
     "output_type": "stream",
     "text": [
      "Null values in X_train:\n",
      " H          5004\n",
      "moid          0\n",
      "a             0\n",
      "q             0\n",
      "i             0\n",
      "sigma_e       0\n",
      "dtype: int64\n"
     ]
    }
   ],
   "source": [
    "# Check for null values in X_train\n",
    "null_check = X_train.isnull().sum()\n",
    "print(\"Null values in X_train:\\n\", null_check)\n"
   ]
  },
  {
   "cell_type": "code",
   "execution_count": 58,
   "id": "f008013c",
   "metadata": {},
   "outputs": [],
   "source": [
    "# Calculate the mean of the 'H' column (excluding nulls)\n",
    "mean_H = X_train['H'].mean()\n",
    "\n",
    "# Fill null values in 'H' with the calculated mean\n",
    "X_train['H'].fillna(mean_H, inplace=True)"
   ]
  },
  {
   "cell_type": "code",
   "execution_count": 59,
   "id": "df82e83b",
   "metadata": {},
   "outputs": [
    {
     "name": "stdout",
     "output_type": "stream",
     "text": [
      "Null values in X_train after filling:\n",
      " H          0\n",
      "moid       0\n",
      "a          0\n",
      "q          0\n",
      "i          0\n",
      "sigma_e    0\n",
      "dtype: int64\n"
     ]
    }
   ],
   "source": [
    "# Check for null values in X_train again\n",
    "null_check_after = X_train.isnull().sum()\n",
    "print(\"Null values in X_train after filling:\\n\", null_check_after)\n"
   ]
  },
  {
   "cell_type": "code",
   "execution_count": 60,
   "id": "5ab54b65",
   "metadata": {},
   "outputs": [
    {
     "name": "stdout",
     "output_type": "stream",
     "text": [
      "Best parameters for Logistic Regression: {'C': 100}\n"
     ]
    }
   ],
   "source": [
    "\n",
    "# Define the parameter grid\n",
    "param_grid_lr = {'C': [0.01, 0.1, 1, 10, 100]}\n",
    "\n",
    "# Initialize the Logistic Regression model\n",
    "lr = LogisticRegression(max_iter=1000, random_state=42)\n",
    "\n",
    "# Initialize GridSearchCV\n",
    "grid_search_lr = GridSearchCV(lr, param_grid_lr, cv=5, scoring='f1')\n",
    "\n",
    "# Fit the model on the training data\n",
    "grid_search_lr.fit(X_train, y_train)\n",
    "\n",
    "# Best parameters for logistic regression\n",
    "print(\"Best parameters for Logistic Regression:\", grid_search_lr.best_params_)\n"
   ]
  },
  {
   "cell_type": "markdown",
   "id": "b9f7be64",
   "metadata": {},
   "source": [
    "Let us remove null values from X_test as well"
   ]
  },
  {
   "cell_type": "code",
   "execution_count": 63,
   "id": "02f11090",
   "metadata": {},
   "outputs": [
    {
     "name": "stdout",
     "output_type": "stream",
     "text": [
      "Null values in X_train:\n",
      " H          1258\n",
      "moid          0\n",
      "a             0\n",
      "q             0\n",
      "i             0\n",
      "sigma_e       0\n",
      "dtype: int64\n"
     ]
    }
   ],
   "source": [
    "# Check for null values in X_test\n",
    "null_check = X_test.isnull().sum()\n",
    "print(\"Null values in X_train:\\n\", null_check)"
   ]
  },
  {
   "cell_type": "code",
   "execution_count": 65,
   "id": "3bb0ec4e",
   "metadata": {},
   "outputs": [],
   "source": [
    "# Calculate the mean of the 'H' column (excluding nulls)\n",
    "mean_H = X_test['H'].mean()\n",
    "\n",
    "# Fill null values in 'H' with the calculated mean\n",
    "X_test['H'].fillna(mean_H, inplace=True)"
   ]
  },
  {
   "cell_type": "code",
   "execution_count": 66,
   "id": "d6598517",
   "metadata": {},
   "outputs": [
    {
     "name": "stdout",
     "output_type": "stream",
     "text": [
      "Null values in X_train after filling:\n",
      " H          0\n",
      "moid       0\n",
      "a          0\n",
      "q          0\n",
      "i          0\n",
      "sigma_e    0\n",
      "dtype: int64\n"
     ]
    }
   ],
   "source": [
    "# Check for null values in X_train again\n",
    "null_check_after = X_test.isnull().sum()\n",
    "print(\"Null values in X_train after filling:\\n\", null_check_after)\n"
   ]
  },
  {
   "cell_type": "code",
   "execution_count": 67,
   "id": "e783d858",
   "metadata": {},
   "outputs": [],
   "source": [
    "# Predicting on the test set\n",
    "y_pred = grid_search_lr.predict(X_test)"
   ]
  },
  {
   "cell_type": "markdown",
   "id": "5bf0ae1e",
   "metadata": {},
   "source": [
    "## Logistic Regressor Model Evaluation"
   ]
  },
  {
   "cell_type": "code",
   "execution_count": 69,
   "id": "8cf795e9",
   "metadata": {},
   "outputs": [],
   "source": [
    "from sklearn.metrics import (\n",
    "    confusion_matrix, ConfusionMatrixDisplay,\n",
    "    accuracy_score, precision_score, recall_score, f1_score\n",
    ")"
   ]
  },
  {
   "cell_type": "code",
   "execution_count": 71,
   "id": "9ef6d67e",
   "metadata": {},
   "outputs": [
    {
     "data": {
      "image/png": "[encoded data removed]",
      "text/plain": [
       "<Figure size 432x288 with 2 Axes>"
      ]
     },
     "metadata": {
      "needs_background": "light"
     },
     "output_type": "display_data"
    },
    {
     "name": "stdout",
     "output_type": "stream",
     "text": [
      "Logistic Regression Metrics:\n",
      "Accuracy: 0.9990\n",
      "Precision: 0.8248\n",
      "Recall: 0.7183\n",
      "F1 Score: 0.7679\n"
     ]
    }
   ],
   "source": [
    "# Confusion Matrix\n",
    "cm_lr = confusion_matrix(y_test, y_pred)\n",
    "disp_lr = ConfusionMatrixDisplay(confusion_matrix=cm_lr)\n",
    "disp_lr.plot()\n",
    "plt.title(\"Logistic Regression Confusion Matrix\")\n",
    "plt.show()\n",
    "\n",
    "# Calculate metrics\n",
    "accuracy_lr = accuracy_score(y_test, y_pred)\n",
    "precision_lr = precision_score(y_test, y_pred)\n",
    "recall_lr = recall_score(y_test, y_pred)\n",
    "f1_lr = f1_score(y_test, y_pred)\n",
    "\n",
    "# Print the evaluation metrics\n",
    "print(f\"Logistic Regression Metrics:\")\n",
    "print(f\"Accuracy: {accuracy_lr:.4f}\")\n",
    "print(f\"Precision: {precision_lr:.4f}\")\n",
    "print(f\"Recall: {recall_lr:.4f}\")\n",
    "print(f\"F1 Score: {f1_lr:.4f}\")"
   ]
  },
  {
   "cell_type": "markdown",
   "id": "f6fac038",
   "metadata": {},
   "source": [
    "### Key Takeaways\n",
    "\n",
    "#### True Negative : 187230 --> When it correctly predicted 0\n",
    "#### True Positive : 306 --> When it correctly predicted 1\n",
    "#### False Positive : 65 --> when it incorrectly predicted 1\n",
    "#### False Negative : 120 --> When it incorrectly predicted 0\n",
    "\n",
    "\n",
    "### Important Consideration:\n",
    "\n",
    "In the case of asteroids, let us measure the importance of false negatives and false positives and try to answer whether both have an equal weight. False negatives mean that our model predicted an asteroid to be not hazardious but it actually is. This may lead us to ignore the threat and that can be extremely dangerous. False positives, on the other hand, might lead us to spend unnecessary funds but in the end it will be a learning lesson and it won't be fatal. \n",
    "So ideally we should try and minimize false negatives, even if it comes at the cost of a little accuracy.\n",
    "\n"
   ]
  },
  {
   "cell_type": "markdown",
   "id": "901c9449",
   "metadata": {},
   "source": [
    "# KNN Model:"
   ]
  },
  {
   "cell_type": "markdown",
   "id": "436861f1",
   "metadata": {},
   "source": [
    "Now, let us model our data using KNN classifier and check its predictions so we can compare it with Logistic regression"
   ]
  },
  {
   "cell_type": "code",
   "execution_count": 72,
   "id": "80091a33",
   "metadata": {},
   "outputs": [],
   "source": [
    "# Importing required libraries\n",
    "from sklearn.neighbors import KNeighborsClassifier"
   ]
  },
  {
   "cell_type": "code",
   "execution_count": 73,
   "id": "edfe4380",
   "metadata": {},
   "outputs": [
    {
     "name": "stdout",
     "output_type": "stream",
     "text": [
      "Best parameters for K-Nearest Neighbors: {'n_neighbors': 1}\n"
     ]
    }
   ],
   "source": [
    "# Define the parameter grid for KNN\n",
    "param_grid_knn = {'n_neighbors': range(1, 21)}\n",
    "\n",
    "# Initialize the KNN model\n",
    "knn_model_knn = KNeighborsClassifier()\n",
    "\n",
    "# Initialize GridSearchCV with the KNN model\n",
    "grid_search_knn = GridSearchCV(knn_model_knn, param_grid_knn, cv=5, scoring='f1')\n",
    "\n",
    "# Fit the model on the training data\n",
    "grid_search_knn.fit(X_train, y_train)\n",
    "\n",
    "# Best parameters for KNN\n",
    "print(\"Best parameters for K-Nearest Neighbors:\", grid_search_knn.best_params_)"
   ]
  },
  {
   "cell_type": "code",
   "execution_count": 74,
   "id": "9df706b1",
   "metadata": {},
   "outputs": [],
   "source": [
    "# Get the best model\n",
    "best_knn_model = grid_search_knn.best_estimator_"
   ]
  },
  {
   "cell_type": "code",
   "execution_count": 75,
   "id": "f01eb765",
   "metadata": {},
   "outputs": [],
   "source": [
    "# Make predictions using the best KNN model\n",
    "y_pred_knn = best_knn_model.predict(X_test)"
   ]
  },
  {
   "cell_type": "markdown",
   "id": "483f71a9",
   "metadata": {},
   "source": [
    "### KNN Model Evaluation\n"
   ]
  },
  {
   "cell_type": "code",
   "execution_count": 76,
   "id": "b38551ed",
   "metadata": {},
   "outputs": [
    {
     "data": {
      "image/png": "[encoded data removed]",
      "text/plain": [
       "<Figure size 432x288 with 2 Axes>"
      ]
     },
     "metadata": {
      "needs_background": "light"
     },
     "output_type": "display_data"
    },
    {
     "name": "stdout",
     "output_type": "stream",
     "text": [
      "KNN Classifier Metrics:\n",
      "Accuracy: 0.9975\n",
      "Precision: 0.4504\n",
      "Recall: 0.4155\n",
      "F1 Score: 0.4322\n"
     ]
    }
   ],
   "source": [
    "# Confusion Matrix\n",
    "cm_knn = confusion_matrix(y_test, y_pred_knn)\n",
    "disp_knn = ConfusionMatrixDisplay(confusion_matrix=cm_knn)\n",
    "disp_knn.plot()\n",
    "plt.title(\"KNN Classifier Confusion Matrix\")\n",
    "plt.show()\n",
    "\n",
    "# Calculate metrics\n",
    "accuracy_knn = accuracy_score(y_test, y_pred_knn)\n",
    "precision_knn = precision_score(y_test, y_pred_knn)\n",
    "recall_knn = recall_score(y_test, y_pred_knn)\n",
    "f1_knn = f1_score(y_test, y_pred_knn)\n",
    "\n",
    "print(f\"KNN Classifier Metrics:\")\n",
    "print(f\"Accuracy: {accuracy_knn:.4f}\")\n",
    "print(f\"Precision: {precision_knn:.4f}\")\n",
    "print(f\"Recall: {recall_knn:.4f}\")\n",
    "print(f\"F1 Score: {f1_knn:.4f}\")"
   ]
  },
  {
   "cell_type": "markdown",
   "id": "55c37bc4",
   "metadata": {},
   "source": [
    "### Key Takeaways\n",
    "\n",
    "#### True Negative : 187079 --> When it correctly predicted 0\n",
    "#### True Positive : 177 --> When it correctly predicted 1\n",
    "#### False Positive : 216 --> when it incorrectly predicted 1\n",
    "#### False Negative : 249 --> When it incorrectly predicted 0\n",
    "\n",
    "\n"
   ]
  },
  {
   "cell_type": "markdown",
   "id": "0422b786",
   "metadata": {},
   "source": [
    "# Confusion Matrix Evaluation for both Models"
   ]
  },
  {
   "cell_type": "markdown",
   "id": "14a24dff",
   "metadata": {},
   "source": [
    "Summarizing what we've got so far\n",
    "\n",
    "## Logistic Regression Model:\n",
    "\n",
    "Confusion Matrix:\n",
    "1. True Negative : 187230 \n",
    "2. True Positive : 306 \n",
    "3. False Positive : 65 \n",
    "4. False Negative : 120 \n",
    "\n",
    "Model Performance\n",
    "1. Accuracy: 0.9990\n",
    "2. Precision: 0.8248\n",
    "3. Recall: 0.7183\n",
    "4. F1 Score: 0.7679\n",
    "\n",
    "-----------------------------------------------------------------------------------------------\n",
    "\n",
    "## KNN Model\n",
    "\n",
    "Confusion Matrix:\n",
    "1. True Negative : 187079 \n",
    "2. True Positive : 177 \n",
    "3. False Positive : 216\n",
    "4. False Negative : 249\n",
    "\n",
    "Model Performance\n",
    "1. Accuracy: 0.9975\n",
    "2. Precision: 0.4504\n",
    "3. Recall: 0.4155\n",
    "4. F1 Score: 0.4322\n",
    "\n",
    "\n",
    "# False Positives & False Negatives\n",
    "\n",
    "False Positive: We predicted an asteroid to be hazardious when it actually wasn't.\n",
    "False Negative: We predicted an asteroid to be safe i.e non-hazardious when it actually was!\n",
    "\n",
    "Implications? \n",
    "Well, I would say that it is quite clear that false negatives could potentially lead to fatal scenarios!\n",
    "In cases of false negatives, we might ignore an asteroid that could cause a lot of harm by thinking that it was safe. A lot of prevention and safety measures would be avoided which could have saved lifes.\n",
    "A false positive, however in my opinion, is not as dangerous. Yes, it might lead us to spend a lot of money and resources on studying that asteroid and to prepare ways to help ourselves, but in the end it will add to a learning experience and won't cause potential loss of lives.\n",
    "Thus, I feel like we must go with a model that tries to minimize false negatives, even if it comes at a cost of reduced accuracy."
   ]
  },
  {
   "cell_type": "markdown",
   "id": "9f8a6164",
   "metadata": {},
   "source": [
    "# Final Thoughts and Conclusion \n",
    "\n",
    "### Model Comparison\n",
    "\n",
    "The model performance measures such as F1 score, accuracy, precision and recall suggests our logistic regressor model did a better job at predicting pha values correctly. \n",
    "\n",
    "As mentioned above, I think false negatives play a more important role in determining which model to select. If I had to improve my models, I would focus on maximizing Recall value. \n",
    "\n",
    "1. Recall = True Positive / (True Positive + False Negative)\n",
    "\n",
    "From the above formula, it is clear that in order to maximize Recall value, we will have to reduce i.e minimize the False Negatives, which I think is very important for this context.\n",
    "\n",
    "Thus, I can say from the two models that we created above, I would prefer the logistic regressor model and we can further try to improve that model. My goal would be to focus on maximizing the Recall value of the model."
   ]
  }
 ],
 "metadata": {
  "kernelspec": {
   "display_name": "Python 3 (ipykernel)",
   "language": "python",
   "name": "python3"
  },
  "language_info": {
   "codemirror_mode": {
    "name": "ipython",
    "version": 3
   },
   "file_extension": ".py",
   "mimetype": "text/x-python",
   "name": "python",
   "nbconvert_exporter": "python",
   "pygments_lexer": "ipython3",
   "version": "3.12.7"
  }
 },
 "nbformat": 4,
 "nbformat_minor": 5
}
